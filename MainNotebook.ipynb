{
 "cells": [
  {
   "cell_type": "code",
   "execution_count": 9,
   "metadata": {
    "collapsed": false
   },
   "outputs": [],
   "source": [
    "import pandas as pd\n",
    "import numpy as np\n",
    "from AlexML.PandasHelpers import PandasHelpers\n",
    "import AlexML.Transformers as transf\n",
    "from AlexML.PredictionStatistics import PredictionStatistics\n",
    "from AlexML.DataBox import DataBox\n",
    "ph = PandasHelpers()\n",
    "th= transf.TransformerHelpers()\n",
    "df1 = pd.DataFrame(np.random.randn(10, 4), columns=['a', 'b', 'c', 'd'])\n",
    "df1[\"e\"] = pd.Series(df1[\"d\"] > 0.5, dtype=np.int)"
   ]
  },
  {
   "cell_type": "code",
   "execution_count": 10,
   "metadata": {
    "collapsed": false
   },
   "outputs": [
    {
     "name": "stdout",
     "output_type": "stream",
     "text": [
      "          a         b         c         d  e\n",
      "0  0.576545  1.364598 -0.092787 -0.975698  0\n",
      "1 -1.961800 -0.581967 -0.240685  0.141617  0\n",
      "2  0.755842  0.671791  0.721599  0.778610  1\n",
      "3 -0.619596 -0.398874  0.734083 -0.577192  0\n",
      "4 -1.278895  1.000621  0.377052 -0.578656  0\n",
      "5  0.930097 -0.915352  0.942737 -1.281675  0\n",
      "6  1.100682 -0.853672  0.210000 -0.713351  0\n",
      "7  0.760124 -0.162104 -0.671611  1.156329  1\n",
      "8 -0.144710  1.399126  0.772488 -0.951409  0\n",
      "9  1.686331 -0.296244 -0.117894 -0.427730  0\n",
      "          a         b         c         d  e\n",
      "7  0.760124 -0.162104 -0.671611  1.156329  1\n",
      "0  0.576545  1.364598 -0.092787 -0.975698  0\n",
      "1 -1.961800 -0.581967 -0.240685  0.141617  0\n",
      "4 -1.278895  1.000621  0.377052 -0.578656  0\n",
      "6  1.100682 -0.853672  0.210000 -0.713351  0\n",
      "5  0.930097 -0.915352  0.942737 -1.281675  0\n",
      "2  0.755842  0.671791  0.721599  0.778610  1\n",
      "8 -0.144710  1.399126  0.772488 -0.951409  0\n",
      "3 -0.619596 -0.398874  0.734083 -0.577192  0\n",
      "9  1.686331 -0.296244 -0.117894 -0.427730  0\n",
      "          a         b         c         d  e\n",
      "7  0.576545  1.364598 -0.092787 -0.975698  0\n",
      "0  0.576545  1.364598 -0.092787 -0.975698  0\n",
      "1 -1.961800 -0.581967 -0.240685  0.141617  0\n",
      "4 -1.278895  1.000621  0.377052 -0.578656  0\n",
      "6  1.100682 -0.853672  0.210000 -0.713351  0\n",
      "5  0.930097 -0.915352  0.942737 -1.281675  0\n",
      "2  0.755842  0.671791  0.721599  0.778610  1\n",
      "8 -0.144710  1.399126  0.772488 -0.951409  0\n",
      "3 -0.619596 -0.398874  0.734083 -0.577192  0\n",
      "9  1.686331 -0.296244 -0.117894 -0.427730  0\n",
      "          a         b         c         d  e\n",
      "0  0.576545  1.364598 -0.092787 -0.975698  0\n",
      "1 -1.961800 -0.581967 -0.240685  0.141617  0\n",
      "2  0.755842  0.671791  0.721599  0.778610  1\n",
      "3 -0.619596 -0.398874  0.734083 -0.577192  0\n",
      "4 -1.278895  1.000621  0.377052 -0.578656  0\n",
      "5  0.930097 -0.915352  0.942737 -1.281675  0\n",
      "6  1.100682 -0.853672  0.210000 -0.713351  0\n",
      "7  0.760124 -0.162104 -0.671611  1.156329  1\n",
      "8 -0.144710  1.399126  0.772488 -0.951409  0\n",
      "9  1.686331 -0.296244 -0.117894 -0.427730  0\n"
     ]
    }
   ],
   "source": [
    "print df1\n",
    "df2 = df1.iloc[np.random.permutation(xrange(df1.shape[0]))]\n",
    "print df2\n",
    "df2.iloc[0] = df2.iloc[1]\n",
    "print df2\n",
    "print df1"
   ]
  },
  {
   "cell_type": "code",
   "execution_count": null,
   "metadata": {
    "collapsed": false
   },
   "outputs": [],
   "source": [
    "print ph.get_sorted_correlations(df1, [\"a\",\"b\",\"c\"], \"c\")\n",
    "categorical = transf.CategoricalTransformer([\"e\"])\n",
    "basic = transf.BasicFuncTransformer([\"a\", \"b\", \"c\"], lambda x: x + 1000)\n",
    "basic2 = transf.BasicFuncTransformer([\"a\", \"b\"], lambda x: x * 33)\n",
    "th.apply_transformers(df1, [basic, basic2, categorical])\n",
    "print df1"
   ]
  },
  {
   "cell_type": "code",
   "execution_count": null,
   "metadata": {
    "collapsed": false
   },
   "outputs": [],
   "source": [
    "f = lambda x: x > 0\n",
    "df1['e'] = pd.Series(f(df1['d']), dtype=np.double)\n",
    "df1['f'] = df1['d']\n",
    "df1['f'][ df1['f'] > 0.5 ] = 9999\n",
    "df1.columns.values"
   ]
  },
  {
   "cell_type": "code",
   "execution_count": null,
   "metadata": {
    "collapsed": false
   },
   "outputs": [],
   "source": [
    "arr = np.ones(5)\n",
    "print len(arr)"
   ]
  },
  {
   "cell_type": "code",
   "execution_count": null,
   "metadata": {
    "collapsed": false
   },
   "outputs": [],
   "source": [
    "df1.corr()[\"a\"]"
   ]
  },
  {
   "cell_type": "code",
   "execution_count": null,
   "metadata": {
    "collapsed": false
   },
   "outputs": [],
   "source": [
    "arr = np.array([\"hi\", \"hello\"])\n",
    "arr = arr + np.array([\"hey\"])"
   ]
  },
  {
   "cell_type": "code",
   "execution_count": null,
   "metadata": {
    "collapsed": false
   },
   "outputs": [],
   "source": [
    "import numpy as np\n",
    "arr = np.arange(10000000)\n",
    "it = np.nditer(arr, flags=['f_index'])\n",
    "while not it.finished:\n",
    "    if not it[0] == it.index:\n",
    "        print it[0], it.index\n",
    "    it.iternext()"
   ]
  },
  {
   "cell_type": "code",
   "execution_count": null,
   "metadata": {
    "collapsed": false
   },
   "outputs": [],
   "source": [
    "predstats = PredictionStatistics()\n",
    "arr1 = np.array([0.3,0.8,0.3,0.8,0.7,0.7])\n",
    "arr2 = np.array([0,1,0,1,0,0])\n",
    "arr1_fix = predstats.get_thresholded_predictions(arr1, 0.5)\n",
    "print predstats.get_auc(arr1_fix, arr2)\n",
    "print predstats.get_accuracy(arr1_fix, arr2)"
   ]
  },
  {
   "cell_type": "code",
   "execution_count": null,
   "metadata": {
    "collapsed": true
   },
   "outputs": [],
   "source": []
  }
 ],
 "metadata": {
  "kernelspec": {
   "display_name": "Python 2",
   "language": "python",
   "name": "python2"
  },
  "language_info": {
   "codemirror_mode": {
    "name": "ipython",
    "version": 2
   },
   "file_extension": ".py",
   "mimetype": "text/x-python",
   "name": "python",
   "nbconvert_exporter": "python",
   "pygments_lexer": "ipython2",
   "version": "2.7.11"
  }
 },
 "nbformat": 4,
 "nbformat_minor": 0
}
