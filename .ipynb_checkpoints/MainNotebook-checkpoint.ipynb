{
 "cells": [
  {
   "cell_type": "code",
   "execution_count": 1,
   "metadata": {
    "collapsed": false
   },
   "outputs": [],
   "source": [
    "import pandas as pd\n",
    "import numpy as np\n",
    "from AlexML.PandasHelpers import PandasHelpers\n",
    "import AlexML.Transformers as transf\n",
    "from AlexML.PredictionStatistics import PredictionStatistics\n",
    "from AlexML.DataBox import DataBox\n",
    "ph = PandasHelpers()\n",
    "th= transf.TransformerHelpers()\n",
    "df1 = pd.DataFrame(np.random.randn(1000000, 4), columns=['a', 'b', 'c', 'd'])\n",
    "df1[\"e\"] = pd.Series(df1[\"d\"] > 0.5, dtype=np.int)"
   ]
  },
  {
   "cell_type": "code",
   "execution_count": 3,
   "metadata": {
    "collapsed": false
   },
   "outputs": [
    {
     "name": "stdout",
     "output_type": "stream",
     "text": [
      "          a         b         c         d  e\n",
      "0 -1.186321  1.965680 -1.133841  0.199667  0\n",
      "1  1.347702 -0.365981 -1.086333  0.261287  0\n",
      "2  1.028244 -1.337164  0.197893  0.766054  1\n",
      "3 -0.391333 -0.474066  0.446309  2.387971  1\n",
      "4 -0.535622  1.152536  0.732956 -0.446503  0\n",
      "5 -0.636730  0.994057  0.799310  0.848013  1\n",
      "6 -1.067697  1.021754  0.052717 -0.230998  0\n",
      "7  0.186104 -0.202384 -0.313600 -0.308432  0\n",
      "8 -0.528613  0.124686  0.227077 -0.363751  0\n",
      "9 -1.148453  1.275111  0.034499  2.186034  1\n",
      "          a         b         c         d  e\n",
      "0 -0.636730  0.994057  0.799310  0.848013  1\n",
      "1 -0.535622  1.152536  0.732956 -0.446503  0\n",
      "2  1.028244 -1.337164  0.197893  0.766054  1\n",
      "3  0.186104 -0.202384 -0.313600 -0.308432  0\n",
      "4 -1.186321  1.965680 -1.133841  0.199667  0\n",
      "5  1.347702 -0.365981 -1.086333  0.261287  0\n",
      "6 -0.391333 -0.474066  0.446309  2.387971  1\n",
      "7 -1.067697  1.021754  0.052717 -0.230998  0\n",
      "8 -1.148453  1.275111  0.034499  2.186034  1\n",
      "9 -0.528613  0.124686  0.227077 -0.363751  0\n",
      "          a         b         c         d  e\n",
      "0 -0.636730  0.994057  0.799310  0.848013  1\n",
      "1 -0.535622  1.152536  0.732956 -0.446503  0\n",
      "2  1.028244 -1.337164  0.197893  0.766054  1\n",
      "3  0.186104 -0.202384 -0.313600 -0.308432  0\n",
      "4 -1.186321  1.965680 -1.133841  0.199667  0\n",
      "5  1.347702 -0.365981 -1.086333  0.261287  0\n",
      "6 -0.391333 -0.474066  0.446309  2.387971  1\n",
      "7 -1.067697  1.021754  0.052717 -0.230998  0\n",
      "8 -1.148453  1.275111  0.034499  2.186034  1\n",
      "9 -0.528613  0.124686  0.227077 -0.363751  0\n"
     ]
    }
   ],
   "source": [
    "print df1\n",
    "df2 = ph.shuffle(df1, inplace=True)\n",
    "print df2"
   ]
  },
  {
   "cell_type": "code",
   "execution_count": null,
   "metadata": {
    "collapsed": false
   },
   "outputs": [],
   "source": [
    "print ph.get_sorted_correlations(df1, [\"a\",\"b\",\"c\"], \"c\")\n",
    "categorical = transf.CategoricalTransformer([\"e\"])\n",
    "basic = transf.BasicFuncTransformer([\"a\", \"b\", \"c\"], lambda x: x + 1000)\n",
    "basic2 = transf.BasicFuncTransformer([\"a\", \"b\"], lambda x: x * 33)\n",
    "th.apply_transformers(df1, [basic, basic2, categorical])\n",
    "print df1"
   ]
  },
  {
   "cell_type": "code",
   "execution_count": null,
   "metadata": {
    "collapsed": false
   },
   "outputs": [],
   "source": [
    "f = lambda x: x > 0\n",
    "df1['e'] = pd.Series(f(df1['d']), dtype=np.double)\n",
    "df1['f'] = df1['d']\n",
    "df1['f'][ df1['f'] > 0.5 ] = 9999\n",
    "df1.columns.values"
   ]
  },
  {
   "cell_type": "code",
   "execution_count": null,
   "metadata": {
    "collapsed": false
   },
   "outputs": [],
   "source": [
    "arr = np.ones(5)\n",
    "print len(arr)"
   ]
  },
  {
   "cell_type": "code",
   "execution_count": null,
   "metadata": {
    "collapsed": false
   },
   "outputs": [],
   "source": [
    "df1.corr()[\"a\"]"
   ]
  },
  {
   "cell_type": "code",
   "execution_count": null,
   "metadata": {
    "collapsed": false
   },
   "outputs": [],
   "source": [
    "arr = np.array([\"hi\", \"hello\"])\n",
    "arr = arr + np.array([\"hey\"])"
   ]
  },
  {
   "cell_type": "code",
   "execution_count": null,
   "metadata": {
    "collapsed": false
   },
   "outputs": [],
   "source": [
    "import numpy as np\n",
    "arr = np.arange(10000000)\n",
    "it = np.nditer(arr, flags=['f_index'])\n",
    "while not it.finished:\n",
    "    if not it[0] == it.index:\n",
    "        print it[0], it.index\n",
    "    it.iternext()"
   ]
  },
  {
   "cell_type": "code",
   "execution_count": null,
   "metadata": {
    "collapsed": false
   },
   "outputs": [],
   "source": [
    "predstats = PredictionStatistics()\n",
    "arr1 = np.array([0.3,0.8,0.3,0.8,0.7,0.7])\n",
    "arr2 = np.array([0,1,0,1,0,0])\n",
    "arr1_fix = predstats.get_thresholded_predictions(arr1, 0.5)\n",
    "print predstats.get_auc(arr1_fix, arr2)\n",
    "print predstats.get_accuracy(arr1_fix, arr2)"
   ]
  },
  {
   "cell_type": "code",
   "execution_count": null,
   "metadata": {
    "collapsed": true
   },
   "outputs": [],
   "source": []
  }
 ],
 "metadata": {
  "kernelspec": {
   "display_name": "Python 2",
   "language": "python",
   "name": "python2"
  },
  "language_info": {
   "codemirror_mode": {
    "name": "ipython",
    "version": 2
   },
   "file_extension": ".py",
   "mimetype": "text/x-python",
   "name": "python",
   "nbconvert_exporter": "python",
   "pygments_lexer": "ipython2",
   "version": "2.7.11"
  }
 },
 "nbformat": 4,
 "nbformat_minor": 0
}
